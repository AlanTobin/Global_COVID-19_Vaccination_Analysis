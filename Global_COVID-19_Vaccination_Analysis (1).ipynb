{
 "cells": [
  {
   "cell_type": "markdown",
   "id": "a79b83ef",
   "metadata": {},
   "source": [
    "# Importing required libraries as well as doing baseline exploratory data analysis:"
   ]
  },
  {
   "cell_type": "code",
   "execution_count": 3,
   "id": "068b4ad1",
   "metadata": {},
   "outputs": [],
   "source": [
    "import pandas as pd #import Pandas\n",
    "import numpy as np # import NumPy\n",
    "import matplotlib.pyplot as plt # import Matplotlib\n",
    "from collections import defaultdict #import defaultdict"
   ]
  },
  {
   "cell_type": "code",
   "execution_count": 4,
   "id": "2631b147",
   "metadata": {},
   "outputs": [],
   "source": [
    "df = pd.read_csv('countryVaccinations.csv', float_precision='round_trip') # creates dataframe with the .csv file\n",
    "pd.set_option(\"precision\", 20) # prevents Pandas from rounding the decimals"
   ]
  },
  {
   "cell_type": "code",
   "execution_count": 6,
   "id": "33eaeb33",
   "metadata": {
    "scrolled": true
   },
   "outputs": [
    {
     "data": {
      "text/plain": [
       "country                                 object\n",
       "iso_code                                object\n",
       "date                                    object\n",
       "total_vaccinations                     float64\n",
       "people_vaccinated                      float64\n",
       "people_fully_vaccinated                float64\n",
       "daily_vaccinations_raw                 float64\n",
       "daily_vaccinations                     float64\n",
       "total_vaccinations_per_hundred         float64\n",
       "people_vaccinated_per_hundred          float64\n",
       "people_fully_vaccinated_per_hundred    float64\n",
       "daily_vaccinations_per_million         float64\n",
       "vaccines                                object\n",
       "source_name                             object\n",
       "source_website                          object\n",
       "dtype: object"
      ]
     },
     "execution_count": 6,
     "metadata": {},
     "output_type": "execute_result"
    }
   ],
   "source": [
    "df.dtypes #Looking at the datatypes of every column in the overall dataset"
   ]
  },
  {
   "cell_type": "code",
   "execution_count": 7,
   "id": "e4adf234",
   "metadata": {},
   "outputs": [
    {
     "data": {
      "text/plain": [
       "37339     0.17000000000000001221\n",
       "37340     0.17999999999999999334\n",
       "37341                        NaN\n",
       "37342     0.29999999999999998890\n",
       "37343                        NaN\n",
       "                  ...           \n",
       "37579    59.47999999999999687361\n",
       "37580    59.60000000000000142109\n",
       "37581    59.77000000000000312639\n",
       "37582    59.92999999999999971578\n",
       "37583    60.07999999999999829470\n",
       "Name: people_vaccinated_per_hundred, Length: 245, dtype: float64"
      ]
     },
     "execution_count": 7,
     "metadata": {},
     "output_type": "execute_result"
    }
   ],
   "source": [
    "df.loc[df.country == 'United States', 'people_vaccinated_per_hundred'] # observiog the percent of people vaccinated \n",
    "# in the United States over 245 days"
   ]
  },
  {
   "cell_type": "code",
   "execution_count": 8,
   "id": "c1da0615",
   "metadata": {},
   "outputs": [
    {
     "data": {
      "text/plain": [
       "Index(['country', 'iso_code', 'date', 'total_vaccinations',\n",
       "       'people_vaccinated', 'people_fully_vaccinated',\n",
       "       'daily_vaccinations_raw', 'daily_vaccinations',\n",
       "       'total_vaccinations_per_hundred', 'people_vaccinated_per_hundred',\n",
       "       'people_fully_vaccinated_per_hundred', 'daily_vaccinations_per_million',\n",
       "       'vaccines', 'source_name', 'source_website'],\n",
       "      dtype='object')"
      ]
     },
     "execution_count": 8,
     "metadata": {},
     "output_type": "execute_result"
    }
   ],
   "source": [
    "df.columns # getting a better understanding of the columns in the dataset that I can possibly index in the future"
   ]
  },
  {
   "cell_type": "code",
   "execution_count": 9,
   "id": "8ac4d6de",
   "metadata": {},
   "outputs": [],
   "source": [
    "df.drop(columns = ['iso_code', 'source_name', 'source_website', 'daily_vaccinations_raw', 'total_vaccinations_per_hundred'], inplace = True)\n",
    "# removing columns that are irrelevant to me for the purpose of this project"
   ]
  },
  {
   "cell_type": "code",
   "execution_count": 10,
   "id": "b7a13bdb",
   "metadata": {},
   "outputs": [
    {
     "name": "stdout",
     "output_type": "stream",
     "text": [
      "<class 'pandas.core.frame.DataFrame'>\n",
      "RangeIndex: 39113 entries, 0 to 39112\n",
      "Data columns (total 10 columns):\n",
      " #   Column                               Non-Null Count  Dtype  \n",
      "---  ------                               --------------  -----  \n",
      " 0   country                              39113 non-null  object \n",
      " 1   date                                 39113 non-null  object \n",
      " 2   total_vaccinations                   21551 non-null  float64\n",
      " 3   people_vaccinated                    20604 non-null  float64\n",
      " 4   people_fully_vaccinated              17728 non-null  float64\n",
      " 5   daily_vaccinations                   38855 non-null  float64\n",
      " 6   people_vaccinated_per_hundred        20604 non-null  float64\n",
      " 7   people_fully_vaccinated_per_hundred  17728 non-null  float64\n",
      " 8   daily_vaccinations_per_million       38855 non-null  float64\n",
      " 9   vaccines                             39113 non-null  object \n",
      "dtypes: float64(7), object(3)\n",
      "memory usage: 3.0+ MB\n"
     ]
    }
   ],
   "source": [
    "df.info()\n",
    "# getting a better understanding of null values in the dataset\n",
    "# it appears that columns that require data that aren't repeating (date) or set (country name) are missing data"
   ]
  },
  {
   "cell_type": "code",
   "execution_count": 11,
   "id": "0ff9a7c3",
   "metadata": {},
   "outputs": [
    {
     "data": {
      "text/html": [
       "<div>\n",
       "<style scoped>\n",
       "    .dataframe tbody tr th:only-of-type {\n",
       "        vertical-align: middle;\n",
       "    }\n",
       "\n",
       "    .dataframe tbody tr th {\n",
       "        vertical-align: top;\n",
       "    }\n",
       "\n",
       "    .dataframe thead th {\n",
       "        text-align: right;\n",
       "    }\n",
       "</style>\n",
       "<table border=\"1\" class=\"dataframe\">\n",
       "  <thead>\n",
       "    <tr style=\"text-align: right;\">\n",
       "      <th></th>\n",
       "      <th>total_vaccinations</th>\n",
       "      <th>people_vaccinated</th>\n",
       "      <th>people_fully_vaccinated</th>\n",
       "      <th>daily_vaccinations</th>\n",
       "      <th>people_vaccinated_per_hundred</th>\n",
       "      <th>people_fully_vaccinated_per_hundred</th>\n",
       "      <th>daily_vaccinations_per_million</th>\n",
       "    </tr>\n",
       "  </thead>\n",
       "  <tbody>\n",
       "    <tr>\n",
       "      <th>count</th>\n",
       "      <td>2.15510000000000000000e+04</td>\n",
       "      <td>2.06040000000000000000e+04</td>\n",
       "      <td>1.77280000000000000000e+04</td>\n",
       "      <td>3.88550000000000000000e+04</td>\n",
       "      <td>20604.00000000000000000000</td>\n",
       "      <td>17728.00000000000000000000</td>\n",
       "      <td>38855.00000000000000000000</td>\n",
       "    </tr>\n",
       "    <tr>\n",
       "      <th>mean</th>\n",
       "      <td>1.66447390159621369094e+07</td>\n",
       "      <td>7.25220954353523626924e+06</td>\n",
       "      <td>4.42408981407942250371e+06</td>\n",
       "      <td>1.26415309355295335990e+05</td>\n",
       "      <td>23.40389536012425963918</td>\n",
       "      <td>16.54879061371852344564</td>\n",
       "      <td>3577.04861665165344675188</td>\n",
       "    </tr>\n",
       "    <tr>\n",
       "      <th>std</th>\n",
       "      <td>9.52698823086299598217e+07</td>\n",
       "      <td>2.62149918222410306334e+07</td>\n",
       "      <td>1.57863939189877174795e+07</td>\n",
       "      <td>8.83964124242976889946e+05</td>\n",
       "      <td>23.08545965003144573302</td>\n",
       "      <td>19.34090419270255623019</td>\n",
       "      <td>4603.15343748526356648654</td>\n",
       "    </tr>\n",
       "    <tr>\n",
       "      <th>min</th>\n",
       "      <td>0.00000000000000000000e+00</td>\n",
       "      <td>0.00000000000000000000e+00</td>\n",
       "      <td>1.00000000000000000000e+00</td>\n",
       "      <td>0.00000000000000000000e+00</td>\n",
       "      <td>0.00000000000000000000</td>\n",
       "      <td>0.00000000000000000000</td>\n",
       "      <td>0.00000000000000000000</td>\n",
       "    </tr>\n",
       "    <tr>\n",
       "      <th>25%</th>\n",
       "      <td>1.67758000000000000000e+05</td>\n",
       "      <td>1.39326500000000000000e+05</td>\n",
       "      <td>6.38700000000000000000e+04</td>\n",
       "      <td>8.52000000000000000000e+02</td>\n",
       "      <td>3.39749999999999996447</td>\n",
       "      <td>1.85000000000000008882</td>\n",
       "      <td>475.00000000000000000000</td>\n",
       "    </tr>\n",
       "    <tr>\n",
       "      <th>50%</th>\n",
       "      <td>1.17462400000000000000e+06</td>\n",
       "      <td>8.38499500000000000000e+05</td>\n",
       "      <td>4.94110500000000000000e+05</td>\n",
       "      <td>6.87400000000000000000e+03</td>\n",
       "      <td>14.71000000000000085265</td>\n",
       "      <td>8.14000000000000056843</td>\n",
       "      <td>2112.00000000000000000000</td>\n",
       "    </tr>\n",
       "    <tr>\n",
       "      <th>75%</th>\n",
       "      <td>6.15147150000000000000e+06</td>\n",
       "      <td>3.94887350000000000000e+06</td>\n",
       "      <td>2.46278375000000000000e+06</td>\n",
       "      <td>3.92820000000000000000e+04</td>\n",
       "      <td>40.25249999999999772626</td>\n",
       "      <td>25.58249999999999957367</td>\n",
       "      <td>5350.50000000000000000000</td>\n",
       "    </tr>\n",
       "    <tr>\n",
       "      <th>max</th>\n",
       "      <td>1.93586900000000000000e+09</td>\n",
       "      <td>6.22000000000000000000e+08</td>\n",
       "      <td>7.77046000000000000000e+08</td>\n",
       "      <td>2.24242860000000000000e+07</td>\n",
       "      <td>116.93000000000000682121</td>\n",
       "      <td>116.26999999999999602096</td>\n",
       "      <td>118759.00000000000000000000</td>\n",
       "    </tr>\n",
       "  </tbody>\n",
       "</table>\n",
       "</div>"
      ],
      "text/plain": [
       "               total_vaccinations           people_vaccinated  \\\n",
       "count  2.15510000000000000000e+04  2.06040000000000000000e+04   \n",
       "mean   1.66447390159621369094e+07  7.25220954353523626924e+06   \n",
       "std    9.52698823086299598217e+07  2.62149918222410306334e+07   \n",
       "min    0.00000000000000000000e+00  0.00000000000000000000e+00   \n",
       "25%    1.67758000000000000000e+05  1.39326500000000000000e+05   \n",
       "50%    1.17462400000000000000e+06  8.38499500000000000000e+05   \n",
       "75%    6.15147150000000000000e+06  3.94887350000000000000e+06   \n",
       "max    1.93586900000000000000e+09  6.22000000000000000000e+08   \n",
       "\n",
       "          people_fully_vaccinated          daily_vaccinations  \\\n",
       "count  1.77280000000000000000e+04  3.88550000000000000000e+04   \n",
       "mean   4.42408981407942250371e+06  1.26415309355295335990e+05   \n",
       "std    1.57863939189877174795e+07  8.83964124242976889946e+05   \n",
       "min    1.00000000000000000000e+00  0.00000000000000000000e+00   \n",
       "25%    6.38700000000000000000e+04  8.52000000000000000000e+02   \n",
       "50%    4.94110500000000000000e+05  6.87400000000000000000e+03   \n",
       "75%    2.46278375000000000000e+06  3.92820000000000000000e+04   \n",
       "max    7.77046000000000000000e+08  2.24242860000000000000e+07   \n",
       "\n",
       "       people_vaccinated_per_hundred  people_fully_vaccinated_per_hundred  \\\n",
       "count     20604.00000000000000000000           17728.00000000000000000000   \n",
       "mean         23.40389536012425963918              16.54879061371852344564   \n",
       "std          23.08545965003144573302              19.34090419270255623019   \n",
       "min           0.00000000000000000000               0.00000000000000000000   \n",
       "25%           3.39749999999999996447               1.85000000000000008882   \n",
       "50%          14.71000000000000085265               8.14000000000000056843   \n",
       "75%          40.25249999999999772626              25.58249999999999957367   \n",
       "max         116.93000000000000682121             116.26999999999999602096   \n",
       "\n",
       "       daily_vaccinations_per_million  \n",
       "count      38855.00000000000000000000  \n",
       "mean        3577.04861665165344675188  \n",
       "std         4603.15343748526356648654  \n",
       "min            0.00000000000000000000  \n",
       "25%          475.00000000000000000000  \n",
       "50%         2112.00000000000000000000  \n",
       "75%         5350.50000000000000000000  \n",
       "max       118759.00000000000000000000  "
      ]
     },
     "execution_count": 11,
     "metadata": {},
     "output_type": "execute_result"
    }
   ],
   "source": [
    "df.describe()\n",
    "# statistical analysis of the numerical columns in the dataset\n",
    "# Overall, it appears that vaccination, globally, is not progressing at a substantial rate.\n",
    "# As we saw in line 14, the United States's percent of people vaccinated far exceeds the mean of people vaccinated. \n",
    "# Relatively, the United States is a much larger country than most other countries and, if it has a higher PERCENT of\n",
    "# people vaccinated, then it has been able to administer more vaccines than most other countries. \n",
    "# This could possibly be due to the effect that COVID-19 has had on the United States or the prominence of the United\n",
    "# States in the world. "
   ]
  },
  {
   "cell_type": "code",
   "execution_count": 12,
   "id": "6a87713d",
   "metadata": {},
   "outputs": [],
   "source": [
    "df_cat = df[['country', 'date', 'vaccines']] \n",
    "# seperating the categorical variables in the dataset into a singular dataset"
   ]
  },
  {
   "cell_type": "code",
   "execution_count": 13,
   "id": "b62e4d01",
   "metadata": {},
   "outputs": [],
   "source": [
    "df_num = df[['total_vaccinations', 'people_vaccinated', 'people_fully_vaccinated', 'daily_vaccinations', 'people_vaccinated_per_hundred', 'people_fully_vaccinated_per_hundred', 'daily_vaccinations_per_million']]\n",
    "# seperating the numerical variables in the dataset into a singular dataset"
   ]
  },
  {
   "cell_type": "code",
   "execution_count": 14,
   "id": "9a5d75d1",
   "metadata": {},
   "outputs": [
    {
     "data": {
      "text/html": [
       "<div>\n",
       "<style scoped>\n",
       "    .dataframe tbody tr th:only-of-type {\n",
       "        vertical-align: middle;\n",
       "    }\n",
       "\n",
       "    .dataframe tbody tr th {\n",
       "        vertical-align: top;\n",
       "    }\n",
       "\n",
       "    .dataframe thead th {\n",
       "        text-align: right;\n",
       "    }\n",
       "</style>\n",
       "<table border=\"1\" class=\"dataframe\">\n",
       "  <thead>\n",
       "    <tr style=\"text-align: right;\">\n",
       "      <th></th>\n",
       "      <th>country</th>\n",
       "      <th>date</th>\n",
       "      <th>vaccines</th>\n",
       "    </tr>\n",
       "  </thead>\n",
       "  <tbody>\n",
       "    <tr>\n",
       "      <th>0</th>\n",
       "      <td>Afghanistan</td>\n",
       "      <td>2021-02-22</td>\n",
       "      <td>Johnson&amp;Johnson, Oxford/AstraZeneca, Pfizer/Bi...</td>\n",
       "    </tr>\n",
       "    <tr>\n",
       "      <th>1</th>\n",
       "      <td>Afghanistan</td>\n",
       "      <td>2021-02-23</td>\n",
       "      <td>Johnson&amp;Johnson, Oxford/AstraZeneca, Pfizer/Bi...</td>\n",
       "    </tr>\n",
       "    <tr>\n",
       "      <th>2</th>\n",
       "      <td>Afghanistan</td>\n",
       "      <td>2021-02-24</td>\n",
       "      <td>Johnson&amp;Johnson, Oxford/AstraZeneca, Pfizer/Bi...</td>\n",
       "    </tr>\n",
       "    <tr>\n",
       "      <th>3</th>\n",
       "      <td>Afghanistan</td>\n",
       "      <td>2021-02-25</td>\n",
       "      <td>Johnson&amp;Johnson, Oxford/AstraZeneca, Pfizer/Bi...</td>\n",
       "    </tr>\n",
       "    <tr>\n",
       "      <th>4</th>\n",
       "      <td>Afghanistan</td>\n",
       "      <td>2021-02-26</td>\n",
       "      <td>Johnson&amp;Johnson, Oxford/AstraZeneca, Pfizer/Bi...</td>\n",
       "    </tr>\n",
       "    <tr>\n",
       "      <th>...</th>\n",
       "      <td>...</td>\n",
       "      <td>...</td>\n",
       "      <td>...</td>\n",
       "    </tr>\n",
       "    <tr>\n",
       "      <th>39108</th>\n",
       "      <td>Zimbabwe</td>\n",
       "      <td>2021-08-17</td>\n",
       "      <td>Oxford/AstraZeneca, Sinopharm/Beijing, Sinovac...</td>\n",
       "    </tr>\n",
       "    <tr>\n",
       "      <th>39109</th>\n",
       "      <td>Zimbabwe</td>\n",
       "      <td>2021-08-18</td>\n",
       "      <td>Oxford/AstraZeneca, Sinopharm/Beijing, Sinovac...</td>\n",
       "    </tr>\n",
       "    <tr>\n",
       "      <th>39110</th>\n",
       "      <td>Zimbabwe</td>\n",
       "      <td>2021-08-19</td>\n",
       "      <td>Oxford/AstraZeneca, Sinopharm/Beijing, Sinovac...</td>\n",
       "    </tr>\n",
       "    <tr>\n",
       "      <th>39111</th>\n",
       "      <td>Zimbabwe</td>\n",
       "      <td>2021-08-20</td>\n",
       "      <td>Oxford/AstraZeneca, Sinopharm/Beijing, Sinovac...</td>\n",
       "    </tr>\n",
       "    <tr>\n",
       "      <th>39112</th>\n",
       "      <td>Zimbabwe</td>\n",
       "      <td>2021-08-21</td>\n",
       "      <td>Oxford/AstraZeneca, Sinopharm/Beijing, Sinovac...</td>\n",
       "    </tr>\n",
       "  </tbody>\n",
       "</table>\n",
       "<p>39113 rows × 3 columns</p>\n",
       "</div>"
      ],
      "text/plain": [
       "           country        date  \\\n",
       "0      Afghanistan  2021-02-22   \n",
       "1      Afghanistan  2021-02-23   \n",
       "2      Afghanistan  2021-02-24   \n",
       "3      Afghanistan  2021-02-25   \n",
       "4      Afghanistan  2021-02-26   \n",
       "...            ...         ...   \n",
       "39108     Zimbabwe  2021-08-17   \n",
       "39109     Zimbabwe  2021-08-18   \n",
       "39110     Zimbabwe  2021-08-19   \n",
       "39111     Zimbabwe  2021-08-20   \n",
       "39112     Zimbabwe  2021-08-21   \n",
       "\n",
       "                                                vaccines  \n",
       "0      Johnson&Johnson, Oxford/AstraZeneca, Pfizer/Bi...  \n",
       "1      Johnson&Johnson, Oxford/AstraZeneca, Pfizer/Bi...  \n",
       "2      Johnson&Johnson, Oxford/AstraZeneca, Pfizer/Bi...  \n",
       "3      Johnson&Johnson, Oxford/AstraZeneca, Pfizer/Bi...  \n",
       "4      Johnson&Johnson, Oxford/AstraZeneca, Pfizer/Bi...  \n",
       "...                                                  ...  \n",
       "39108  Oxford/AstraZeneca, Sinopharm/Beijing, Sinovac...  \n",
       "39109  Oxford/AstraZeneca, Sinopharm/Beijing, Sinovac...  \n",
       "39110  Oxford/AstraZeneca, Sinopharm/Beijing, Sinovac...  \n",
       "39111  Oxford/AstraZeneca, Sinopharm/Beijing, Sinovac...  \n",
       "39112  Oxford/AstraZeneca, Sinopharm/Beijing, Sinovac...  \n",
       "\n",
       "[39113 rows x 3 columns]"
      ]
     },
     "execution_count": 14,
     "metadata": {},
     "output_type": "execute_result"
    }
   ],
   "source": [
    "df_cat \n",
    "# observing the categorical dataset that was just created"
   ]
  },
  {
   "cell_type": "code",
   "execution_count": 15,
   "id": "9f4c1739",
   "metadata": {},
   "outputs": [
    {
     "data": {
      "text/html": [
       "<div>\n",
       "<style scoped>\n",
       "    .dataframe tbody tr th:only-of-type {\n",
       "        vertical-align: middle;\n",
       "    }\n",
       "\n",
       "    .dataframe tbody tr th {\n",
       "        vertical-align: top;\n",
       "    }\n",
       "\n",
       "    .dataframe thead th {\n",
       "        text-align: right;\n",
       "    }\n",
       "</style>\n",
       "<table border=\"1\" class=\"dataframe\">\n",
       "  <thead>\n",
       "    <tr style=\"text-align: right;\">\n",
       "      <th></th>\n",
       "      <th>total_vaccinations</th>\n",
       "      <th>people_vaccinated</th>\n",
       "      <th>people_fully_vaccinated</th>\n",
       "      <th>daily_vaccinations</th>\n",
       "      <th>people_vaccinated_per_hundred</th>\n",
       "      <th>people_fully_vaccinated_per_hundred</th>\n",
       "      <th>daily_vaccinations_per_million</th>\n",
       "    </tr>\n",
       "  </thead>\n",
       "  <tbody>\n",
       "    <tr>\n",
       "      <th>0</th>\n",
       "      <td>0.0</td>\n",
       "      <td>0.0</td>\n",
       "      <td>NaN</td>\n",
       "      <td>NaN</td>\n",
       "      <td>0.00000000000000000000</td>\n",
       "      <td>NaN</td>\n",
       "      <td>NaN</td>\n",
       "    </tr>\n",
       "    <tr>\n",
       "      <th>1</th>\n",
       "      <td>NaN</td>\n",
       "      <td>NaN</td>\n",
       "      <td>NaN</td>\n",
       "      <td>1367.0</td>\n",
       "      <td>NaN</td>\n",
       "      <td>NaN</td>\n",
       "      <td>35.0</td>\n",
       "    </tr>\n",
       "    <tr>\n",
       "      <th>2</th>\n",
       "      <td>NaN</td>\n",
       "      <td>NaN</td>\n",
       "      <td>NaN</td>\n",
       "      <td>1367.0</td>\n",
       "      <td>NaN</td>\n",
       "      <td>NaN</td>\n",
       "      <td>35.0</td>\n",
       "    </tr>\n",
       "    <tr>\n",
       "      <th>3</th>\n",
       "      <td>NaN</td>\n",
       "      <td>NaN</td>\n",
       "      <td>NaN</td>\n",
       "      <td>1367.0</td>\n",
       "      <td>NaN</td>\n",
       "      <td>NaN</td>\n",
       "      <td>35.0</td>\n",
       "    </tr>\n",
       "    <tr>\n",
       "      <th>4</th>\n",
       "      <td>NaN</td>\n",
       "      <td>NaN</td>\n",
       "      <td>NaN</td>\n",
       "      <td>1367.0</td>\n",
       "      <td>NaN</td>\n",
       "      <td>NaN</td>\n",
       "      <td>35.0</td>\n",
       "    </tr>\n",
       "    <tr>\n",
       "      <th>...</th>\n",
       "      <td>...</td>\n",
       "      <td>...</td>\n",
       "      <td>...</td>\n",
       "      <td>...</td>\n",
       "      <td>...</td>\n",
       "      <td>...</td>\n",
       "      <td>...</td>\n",
       "    </tr>\n",
       "    <tr>\n",
       "      <th>39108</th>\n",
       "      <td>3450959.0</td>\n",
       "      <td>2145237.0</td>\n",
       "      <td>1305722.0</td>\n",
       "      <td>68200.0</td>\n",
       "      <td>14.42999999999999971578</td>\n",
       "      <td>8.78999999999999914735</td>\n",
       "      <td>4589.0</td>\n",
       "    </tr>\n",
       "    <tr>\n",
       "      <th>39109</th>\n",
       "      <td>3542340.0</td>\n",
       "      <td>2193046.0</td>\n",
       "      <td>1349294.0</td>\n",
       "      <td>75000.0</td>\n",
       "      <td>14.75999999999999978684</td>\n",
       "      <td>9.08000000000000007105</td>\n",
       "      <td>5046.0</td>\n",
       "    </tr>\n",
       "    <tr>\n",
       "      <th>39110</th>\n",
       "      <td>3620937.0</td>\n",
       "      <td>2233265.0</td>\n",
       "      <td>1387672.0</td>\n",
       "      <td>61097.0</td>\n",
       "      <td>15.02999999999999936051</td>\n",
       "      <td>9.33999999999999985789</td>\n",
       "      <td>4111.0</td>\n",
       "    </tr>\n",
       "    <tr>\n",
       "      <th>39111</th>\n",
       "      <td>3699508.0</td>\n",
       "      <td>2271429.0</td>\n",
       "      <td>1428079.0</td>\n",
       "      <td>69346.0</td>\n",
       "      <td>15.27999999999999936051</td>\n",
       "      <td>9.60999999999999943157</td>\n",
       "      <td>4666.0</td>\n",
       "    </tr>\n",
       "    <tr>\n",
       "      <th>39112</th>\n",
       "      <td>3753242.0</td>\n",
       "      <td>2301341.0</td>\n",
       "      <td>1451901.0</td>\n",
       "      <td>74048.0</td>\n",
       "      <td>15.48000000000000042633</td>\n",
       "      <td>9.76999999999999957367</td>\n",
       "      <td>4982.0</td>\n",
       "    </tr>\n",
       "  </tbody>\n",
       "</table>\n",
       "<p>39113 rows × 7 columns</p>\n",
       "</div>"
      ],
      "text/plain": [
       "       total_vaccinations  people_vaccinated  people_fully_vaccinated  \\\n",
       "0                     0.0                0.0                      NaN   \n",
       "1                     NaN                NaN                      NaN   \n",
       "2                     NaN                NaN                      NaN   \n",
       "3                     NaN                NaN                      NaN   \n",
       "4                     NaN                NaN                      NaN   \n",
       "...                   ...                ...                      ...   \n",
       "39108           3450959.0          2145237.0                1305722.0   \n",
       "39109           3542340.0          2193046.0                1349294.0   \n",
       "39110           3620937.0          2233265.0                1387672.0   \n",
       "39111           3699508.0          2271429.0                1428079.0   \n",
       "39112           3753242.0          2301341.0                1451901.0   \n",
       "\n",
       "       daily_vaccinations  people_vaccinated_per_hundred  \\\n",
       "0                     NaN         0.00000000000000000000   \n",
       "1                  1367.0                            NaN   \n",
       "2                  1367.0                            NaN   \n",
       "3                  1367.0                            NaN   \n",
       "4                  1367.0                            NaN   \n",
       "...                   ...                            ...   \n",
       "39108             68200.0        14.42999999999999971578   \n",
       "39109             75000.0        14.75999999999999978684   \n",
       "39110             61097.0        15.02999999999999936051   \n",
       "39111             69346.0        15.27999999999999936051   \n",
       "39112             74048.0        15.48000000000000042633   \n",
       "\n",
       "       people_fully_vaccinated_per_hundred  daily_vaccinations_per_million  \n",
       "0                                      NaN                             NaN  \n",
       "1                                      NaN                            35.0  \n",
       "2                                      NaN                            35.0  \n",
       "3                                      NaN                            35.0  \n",
       "4                                      NaN                            35.0  \n",
       "...                                    ...                             ...  \n",
       "39108               8.78999999999999914735                          4589.0  \n",
       "39109               9.08000000000000007105                          5046.0  \n",
       "39110               9.33999999999999985789                          4111.0  \n",
       "39111               9.60999999999999943157                          4666.0  \n",
       "39112               9.76999999999999957367                          4982.0  \n",
       "\n",
       "[39113 rows x 7 columns]"
      ]
     },
     "execution_count": 15,
     "metadata": {},
     "output_type": "execute_result"
    }
   ],
   "source": [
    "df_num\n",
    "# observing the numerical dataset that was just created"
   ]
  },
  {
   "cell_type": "code",
   "execution_count": 16,
   "id": "2edc39d1",
   "metadata": {},
   "outputs": [
    {
     "name": "stdout",
     "output_type": "stream",
     "text": [
      "<class 'pandas.core.frame.DataFrame'>\n",
      "RangeIndex: 39113 entries, 0 to 39112\n",
      "Data columns (total 7 columns):\n",
      " #   Column                               Non-Null Count  Dtype  \n",
      "---  ------                               --------------  -----  \n",
      " 0   total_vaccinations                   21551 non-null  float64\n",
      " 1   people_vaccinated                    20604 non-null  float64\n",
      " 2   people_fully_vaccinated              17728 non-null  float64\n",
      " 3   daily_vaccinations                   38855 non-null  float64\n",
      " 4   people_vaccinated_per_hundred        20604 non-null  float64\n",
      " 5   people_fully_vaccinated_per_hundred  17728 non-null  float64\n",
      " 6   daily_vaccinations_per_million       38855 non-null  float64\n",
      "dtypes: float64(7)\n",
      "memory usage: 2.1 MB\n"
     ]
    }
   ],
   "source": [
    "df_num.info()\n",
    "# looking at the number of null values and datatypes of each column in the numerical dataset (all of them appear \n",
    "# to have null values). This reinforces what I observed previously. "
   ]
  },
  {
   "cell_type": "code",
   "execution_count": 17,
   "id": "ccee8bc3",
   "metadata": {},
   "outputs": [
    {
     "name": "stdout",
     "output_type": "stream",
     "text": [
      "<class 'pandas.core.frame.DataFrame'>\n",
      "RangeIndex: 39113 entries, 0 to 39112\n",
      "Data columns (total 3 columns):\n",
      " #   Column    Non-Null Count  Dtype \n",
      "---  ------    --------------  ----- \n",
      " 0   country   39113 non-null  object\n",
      " 1   date      39113 non-null  object\n",
      " 2   vaccines  39113 non-null  object\n",
      "dtypes: object(3)\n",
      "memory usage: 916.8+ KB\n"
     ]
    }
   ],
   "source": [
    "df_cat.info()\n",
    "# looking at the number of null values and datatypes of each column in the categorical dataset (none of them appear \n",
    "# to have null values). This reinforces what I observed previously. "
   ]
  },
  {
   "cell_type": "code",
   "execution_count": 18,
   "id": "885e697d",
   "metadata": {},
   "outputs": [
    {
     "data": {
      "text/plain": [
       "37339     0.17000000000000001221\n",
       "37340     0.17999999999999999334\n",
       "37341                        NaN\n",
       "37342     0.29999999999999998890\n",
       "37343                        NaN\n",
       "                  ...           \n",
       "37579    59.47999999999999687361\n",
       "37580    59.60000000000000142109\n",
       "37581    59.77000000000000312639\n",
       "37582    59.92999999999999971578\n",
       "37583    60.07999999999999829470\n",
       "Name: people_vaccinated_per_hundred, Length: 245, dtype: float64"
      ]
     },
     "execution_count": 18,
     "metadata": {},
     "output_type": "execute_result"
    }
   ],
   "source": [
    "df.loc[df.country == 'United States', 'people_vaccinated_per_hundred']\n",
    "# Once again, I am observing the percent of people vaccinated over 245 days in the United States as I want to see\n",
    "# how many null values there are. "
   ]
  },
  {
   "cell_type": "code",
   "execution_count": 19,
   "id": "2c513bf2",
   "metadata": {},
   "outputs": [],
   "source": [
    "df.fillna(value = 0, inplace = True) # Filling the null values in the overall dataset with '0'\n",
    "df.total_vaccinations = df.total_vaccinations.astype(int) # Setting the datatype of the data under 'total_vaccinations' \n",
    "# to the integer datatype\n",
    "df.people_vaccinated = df.people_vaccinated.astype(int) # Setting the datatype of the data under 'people_vaccinated' \n",
    "# to the integer datatype\n",
    "df.people_fully_vaccinated = df.people_fully_vaccinated.astype(int) # Setting the datatype of the data under \n",
    "# 'total_vaccinations' to the integer datatype\n",
    "\n",
    "\n",
    "df.daily_vaccinations = df.daily_vaccinations.astype(int) # Setting the datatype of the data under 'daily_vaccinations' \n",
    "# to the integer datatype\n",
    "\n",
    "\n",
    "df.people_fully_vaccinated_per_hundred = df.people_fully_vaccinated_per_hundred.astype(int) # Setting the datatype \n",
    "# of the data under 'people_fully_vaccinated' to the integer datatype\n",
    "df.daily_vaccinations_per_million = df.daily_vaccinations_per_million.astype(int) # Setting the datatype of the data \n",
    "# under 'daily_vaccinations_per_million' to the integer datatype\n",
    "df.people_vaccinated_per_hundred = df.people_vaccinated_per_hundred.astype(float) # Setting the datatype of the data \n",
    "# under 'people_vaccinated_per_hundred' to the float datatype"
   ]
  },
  {
   "cell_type": "code",
   "execution_count": 20,
   "id": "91c1d0c3",
   "metadata": {},
   "outputs": [
    {
     "data": {
      "text/plain": [
       "37339     0.17000000000000001221\n",
       "37340     0.17999999999999999334\n",
       "37341     0.00000000000000000000\n",
       "37342     0.29999999999999998890\n",
       "37343     0.00000000000000000000\n",
       "                  ...           \n",
       "37579    59.47999999999999687361\n",
       "37580    59.60000000000000142109\n",
       "37581    59.77000000000000312639\n",
       "37582    59.92999999999999971578\n",
       "37583    60.07999999999999829470\n",
       "Name: people_vaccinated_per_hundred, Length: 245, dtype: float64"
      ]
     },
     "execution_count": 20,
     "metadata": {},
     "output_type": "execute_result"
    }
   ],
   "source": [
    "df.loc[df.country == 'United States', 'people_vaccinated_per_hundred']\n",
    "# Checking to make sure that the null values were converted to zero"
   ]
  },
  {
   "cell_type": "code",
   "execution_count": 21,
   "id": "6f7e4c75",
   "metadata": {},
   "outputs": [
    {
     "data": {
      "text/plain": [
       "<AxesSubplot:xlabel='date'>"
      ]
     },
     "execution_count": 21,
     "metadata": {},
     "output_type": "execute_result"
    },
    {
     "data": {
      "image/png": "[encoded data removed]",
      "text/plain": [
       "<Figure size 432x288 with 1 Axes>"
      ]
     },
     "metadata": {
      "needs_background": "light"
     },
     "output_type": "display_data"
    }
   ],
   "source": [
    "df.loc[df.country == 'United States', ['total_vaccinations', 'people_vaccinated', 'people_fully_vaccinated', 'date']].plot(x = 'date')\n",
    "# Using Matplotlib to plot the relationship between date and total vaccinations, people vaccinated, and people fully vaccinated "
   ]
  },
  {
   "cell_type": "code",
   "execution_count": 22,
   "id": "eb22f087",
   "metadata": {},
   "outputs": [
    {
     "data": {
      "text/plain": [
       "37339       556208\n",
       "37340       614117\n",
       "37341            0\n",
       "37342      1008025\n",
       "37343            0\n",
       "           ...    \n",
       "37579    357894995\n",
       "37580    358599835\n",
       "37581    359623380\n",
       "37582    360634287\n",
       "37583    361684564\n",
       "Name: total_vaccinations, Length: 245, dtype: int64"
      ]
     },
     "execution_count": 22,
     "metadata": {},
     "output_type": "execute_result"
    }
   ],
   "source": [
    "df.loc[df.country == 'United States', 'total_vaccinations']\n",
    "# Looking at the total number of cumulative vaccinations for the United States over a 245-day period"
   ]
  },
  {
   "cell_type": "code",
   "execution_count": 23,
   "id": "47ee3be6",
   "metadata": {},
   "outputs": [
    {
     "data": {
      "text/html": [
       "<div>\n",
       "<style scoped>\n",
       "    .dataframe tbody tr th:only-of-type {\n",
       "        vertical-align: middle;\n",
       "    }\n",
       "\n",
       "    .dataframe tbody tr th {\n",
       "        vertical-align: top;\n",
       "    }\n",
       "\n",
       "    .dataframe thead th {\n",
       "        text-align: right;\n",
       "    }\n",
       "</style>\n",
       "<table border=\"1\" class=\"dataframe\">\n",
       "  <thead>\n",
       "    <tr style=\"text-align: right;\">\n",
       "      <th></th>\n",
       "      <th>country</th>\n",
       "      <th>date</th>\n",
       "      <th>total_vaccinations</th>\n",
       "      <th>people_vaccinated</th>\n",
       "      <th>people_fully_vaccinated</th>\n",
       "      <th>daily_vaccinations</th>\n",
       "      <th>people_vaccinated_per_hundred</th>\n",
       "      <th>people_fully_vaccinated_per_hundred</th>\n",
       "      <th>daily_vaccinations_per_million</th>\n",
       "      <th>vaccines</th>\n",
       "    </tr>\n",
       "  </thead>\n",
       "  <tbody>\n",
       "    <tr>\n",
       "      <th>0</th>\n",
       "      <td>Afghanistan</td>\n",
       "      <td>2021-02-22</td>\n",
       "      <td>0</td>\n",
       "      <td>0</td>\n",
       "      <td>0</td>\n",
       "      <td>0</td>\n",
       "      <td>0.00000000000000000000</td>\n",
       "      <td>0</td>\n",
       "      <td>0</td>\n",
       "      <td>Johnson&amp;Johnson, Oxford/AstraZeneca, Pfizer/Bi...</td>\n",
       "    </tr>\n",
       "    <tr>\n",
       "      <th>1</th>\n",
       "      <td>Afghanistan</td>\n",
       "      <td>2021-02-23</td>\n",
       "      <td>0</td>\n",
       "      <td>0</td>\n",
       "      <td>0</td>\n",
       "      <td>1367</td>\n",
       "      <td>0.00000000000000000000</td>\n",
       "      <td>0</td>\n",
       "      <td>35</td>\n",
       "      <td>Johnson&amp;Johnson, Oxford/AstraZeneca, Pfizer/Bi...</td>\n",
       "    </tr>\n",
       "    <tr>\n",
       "      <th>2</th>\n",
       "      <td>Afghanistan</td>\n",
       "      <td>2021-02-24</td>\n",
       "      <td>0</td>\n",
       "      <td>0</td>\n",
       "      <td>0</td>\n",
       "      <td>1367</td>\n",
       "      <td>0.00000000000000000000</td>\n",
       "      <td>0</td>\n",
       "      <td>35</td>\n",
       "      <td>Johnson&amp;Johnson, Oxford/AstraZeneca, Pfizer/Bi...</td>\n",
       "    </tr>\n",
       "    <tr>\n",
       "      <th>3</th>\n",
       "      <td>Afghanistan</td>\n",
       "      <td>2021-02-25</td>\n",
       "      <td>0</td>\n",
       "      <td>0</td>\n",
       "      <td>0</td>\n",
       "      <td>1367</td>\n",
       "      <td>0.00000000000000000000</td>\n",
       "      <td>0</td>\n",
       "      <td>35</td>\n",
       "      <td>Johnson&amp;Johnson, Oxford/AstraZeneca, Pfizer/Bi...</td>\n",
       "    </tr>\n",
       "    <tr>\n",
       "      <th>4</th>\n",
       "      <td>Afghanistan</td>\n",
       "      <td>2021-02-26</td>\n",
       "      <td>0</td>\n",
       "      <td>0</td>\n",
       "      <td>0</td>\n",
       "      <td>1367</td>\n",
       "      <td>0.00000000000000000000</td>\n",
       "      <td>0</td>\n",
       "      <td>35</td>\n",
       "      <td>Johnson&amp;Johnson, Oxford/AstraZeneca, Pfizer/Bi...</td>\n",
       "    </tr>\n",
       "    <tr>\n",
       "      <th>...</th>\n",
       "      <td>...</td>\n",
       "      <td>...</td>\n",
       "      <td>...</td>\n",
       "      <td>...</td>\n",
       "      <td>...</td>\n",
       "      <td>...</td>\n",
       "      <td>...</td>\n",
       "      <td>...</td>\n",
       "      <td>...</td>\n",
       "      <td>...</td>\n",
       "    </tr>\n",
       "    <tr>\n",
       "      <th>39108</th>\n",
       "      <td>Zimbabwe</td>\n",
       "      <td>2021-08-17</td>\n",
       "      <td>3450959</td>\n",
       "      <td>2145237</td>\n",
       "      <td>1305722</td>\n",
       "      <td>68200</td>\n",
       "      <td>14.42999999999999971578</td>\n",
       "      <td>8</td>\n",
       "      <td>4589</td>\n",
       "      <td>Oxford/AstraZeneca, Sinopharm/Beijing, Sinovac...</td>\n",
       "    </tr>\n",
       "    <tr>\n",
       "      <th>39109</th>\n",
       "      <td>Zimbabwe</td>\n",
       "      <td>2021-08-18</td>\n",
       "      <td>3542340</td>\n",
       "      <td>2193046</td>\n",
       "      <td>1349294</td>\n",
       "      <td>75000</td>\n",
       "      <td>14.75999999999999978684</td>\n",
       "      <td>9</td>\n",
       "      <td>5046</td>\n",
       "      <td>Oxford/AstraZeneca, Sinopharm/Beijing, Sinovac...</td>\n",
       "    </tr>\n",
       "    <tr>\n",
       "      <th>39110</th>\n",
       "      <td>Zimbabwe</td>\n",
       "      <td>2021-08-19</td>\n",
       "      <td>3620937</td>\n",
       "      <td>2233265</td>\n",
       "      <td>1387672</td>\n",
       "      <td>61097</td>\n",
       "      <td>15.02999999999999936051</td>\n",
       "      <td>9</td>\n",
       "      <td>4111</td>\n",
       "      <td>Oxford/AstraZeneca, Sinopharm/Beijing, Sinovac...</td>\n",
       "    </tr>\n",
       "    <tr>\n",
       "      <th>39111</th>\n",
       "      <td>Zimbabwe</td>\n",
       "      <td>2021-08-20</td>\n",
       "      <td>3699508</td>\n",
       "      <td>2271429</td>\n",
       "      <td>1428079</td>\n",
       "      <td>69346</td>\n",
       "      <td>15.27999999999999936051</td>\n",
       "      <td>9</td>\n",
       "      <td>4666</td>\n",
       "      <td>Oxford/AstraZeneca, Sinopharm/Beijing, Sinovac...</td>\n",
       "    </tr>\n",
       "    <tr>\n",
       "      <th>39112</th>\n",
       "      <td>Zimbabwe</td>\n",
       "      <td>2021-08-21</td>\n",
       "      <td>3753242</td>\n",
       "      <td>2301341</td>\n",
       "      <td>1451901</td>\n",
       "      <td>74048</td>\n",
       "      <td>15.48000000000000042633</td>\n",
       "      <td>9</td>\n",
       "      <td>4982</td>\n",
       "      <td>Oxford/AstraZeneca, Sinopharm/Beijing, Sinovac...</td>\n",
       "    </tr>\n",
       "  </tbody>\n",
       "</table>\n",
       "<p>39113 rows × 10 columns</p>\n",
       "</div>"
      ],
      "text/plain": [
       "           country        date  total_vaccinations  people_vaccinated  \\\n",
       "0      Afghanistan  2021-02-22                   0                  0   \n",
       "1      Afghanistan  2021-02-23                   0                  0   \n",
       "2      Afghanistan  2021-02-24                   0                  0   \n",
       "3      Afghanistan  2021-02-25                   0                  0   \n",
       "4      Afghanistan  2021-02-26                   0                  0   \n",
       "...            ...         ...                 ...                ...   \n",
       "39108     Zimbabwe  2021-08-17             3450959            2145237   \n",
       "39109     Zimbabwe  2021-08-18             3542340            2193046   \n",
       "39110     Zimbabwe  2021-08-19             3620937            2233265   \n",
       "39111     Zimbabwe  2021-08-20             3699508            2271429   \n",
       "39112     Zimbabwe  2021-08-21             3753242            2301341   \n",
       "\n",
       "       people_fully_vaccinated  daily_vaccinations  \\\n",
       "0                            0                   0   \n",
       "1                            0                1367   \n",
       "2                            0                1367   \n",
       "3                            0                1367   \n",
       "4                            0                1367   \n",
       "...                        ...                 ...   \n",
       "39108                  1305722               68200   \n",
       "39109                  1349294               75000   \n",
       "39110                  1387672               61097   \n",
       "39111                  1428079               69346   \n",
       "39112                  1451901               74048   \n",
       "\n",
       "       people_vaccinated_per_hundred  people_fully_vaccinated_per_hundred  \\\n",
       "0             0.00000000000000000000                                    0   \n",
       "1             0.00000000000000000000                                    0   \n",
       "2             0.00000000000000000000                                    0   \n",
       "3             0.00000000000000000000                                    0   \n",
       "4             0.00000000000000000000                                    0   \n",
       "...                              ...                                  ...   \n",
       "39108        14.42999999999999971578                                    8   \n",
       "39109        14.75999999999999978684                                    9   \n",
       "39110        15.02999999999999936051                                    9   \n",
       "39111        15.27999999999999936051                                    9   \n",
       "39112        15.48000000000000042633                                    9   \n",
       "\n",
       "       daily_vaccinations_per_million  \\\n",
       "0                                   0   \n",
       "1                                  35   \n",
       "2                                  35   \n",
       "3                                  35   \n",
       "4                                  35   \n",
       "...                               ...   \n",
       "39108                            4589   \n",
       "39109                            5046   \n",
       "39110                            4111   \n",
       "39111                            4666   \n",
       "39112                            4982   \n",
       "\n",
       "                                                vaccines  \n",
       "0      Johnson&Johnson, Oxford/AstraZeneca, Pfizer/Bi...  \n",
       "1      Johnson&Johnson, Oxford/AstraZeneca, Pfizer/Bi...  \n",
       "2      Johnson&Johnson, Oxford/AstraZeneca, Pfizer/Bi...  \n",
       "3      Johnson&Johnson, Oxford/AstraZeneca, Pfizer/Bi...  \n",
       "4      Johnson&Johnson, Oxford/AstraZeneca, Pfizer/Bi...  \n",
       "...                                                  ...  \n",
       "39108  Oxford/AstraZeneca, Sinopharm/Beijing, Sinovac...  \n",
       "39109  Oxford/AstraZeneca, Sinopharm/Beijing, Sinovac...  \n",
       "39110  Oxford/AstraZeneca, Sinopharm/Beijing, Sinovac...  \n",
       "39111  Oxford/AstraZeneca, Sinopharm/Beijing, Sinovac...  \n",
       "39112  Oxford/AstraZeneca, Sinopharm/Beijing, Sinovac...  \n",
       "\n",
       "[39113 rows x 10 columns]"
      ]
     },
     "execution_count": 23,
     "metadata": {},
     "output_type": "execute_result"
    }
   ],
   "source": [
    "df # looking at the overall dataset once again to make sure that the column of\n",
    "# \"people_vaccinated_per_hundred\" has float values"
   ]
  },
  {
   "cell_type": "code",
   "execution_count": 24,
   "id": "33b6c1ab",
   "metadata": {},
   "outputs": [
    {
     "data": {
      "text/plain": [
       "222"
      ]
     },
     "execution_count": 24,
     "metadata": {},
     "output_type": "execute_result"
    }
   ],
   "source": [
    "len(df.country.unique()) # finding the number of unique countries there are in the dataset"
   ]
  },
  {
   "cell_type": "code",
   "execution_count": 25,
   "id": "96d81028",
   "metadata": {},
   "outputs": [
    {
     "data": {
      "text/plain": [
       "39113"
      ]
     },
     "execution_count": 25,
     "metadata": {},
     "output_type": "execute_result"
    }
   ],
   "source": [
    "len(df) # finding the number of rows in the dateset"
   ]
  },
  {
   "cell_type": "code",
   "execution_count": 26,
   "id": "b239b45c",
   "metadata": {},
   "outputs": [
    {
     "data": {
      "text/plain": [
       "1367"
      ]
     },
     "execution_count": 26,
     "metadata": {},
     "output_type": "execute_result"
    }
   ],
   "source": [
    "df.daily_vaccinations[1] # quickly indexing the dataframe to see second entry in the 'daily vaccinations column'"
   ]
  },
  {
   "cell_type": "markdown",
   "id": "f2830616",
   "metadata": {},
   "source": [
    "# Which countries have the highest number of vaccinated people? "
   ]
  },
  {
   "cell_type": "code",
   "execution_count": 27,
   "id": "8462d4a9",
   "metadata": {},
   "outputs": [
    {
     "data": {
      "text/html": [
       "<div>\n",
       "<style scoped>\n",
       "    .dataframe tbody tr th:only-of-type {\n",
       "        vertical-align: middle;\n",
       "    }\n",
       "\n",
       "    .dataframe tbody tr th {\n",
       "        vertical-align: top;\n",
       "    }\n",
       "\n",
       "    .dataframe thead th {\n",
       "        text-align: right;\n",
       "    }\n",
       "</style>\n",
       "<table border=\"1\" class=\"dataframe\">\n",
       "  <thead>\n",
       "    <tr style=\"text-align: right;\">\n",
       "      <th></th>\n",
       "      <th>total_vaccinated_till_date</th>\n",
       "    </tr>\n",
       "  </thead>\n",
       "  <tbody>\n",
       "    <tr>\n",
       "      <th>China</th>\n",
       "      <td>1898830643</td>\n",
       "    </tr>\n",
       "    <tr>\n",
       "      <th>India</th>\n",
       "      <td>562265410</td>\n",
       "    </tr>\n",
       "    <tr>\n",
       "      <th>United States</th>\n",
       "      <td>358727323</td>\n",
       "    </tr>\n",
       "    <tr>\n",
       "      <th>Brazil</th>\n",
       "      <td>167579290</td>\n",
       "    </tr>\n",
       "    <tr>\n",
       "      <th>Japan</th>\n",
       "      <td>111835489</td>\n",
       "    </tr>\n",
       "    <tr>\n",
       "      <th>...</th>\n",
       "      <td>...</td>\n",
       "    </tr>\n",
       "    <tr>\n",
       "      <th>Tuvalu</th>\n",
       "      <td>1860</td>\n",
       "    </tr>\n",
       "    <tr>\n",
       "      <th>Tokelau</th>\n",
       "      <td>1045</td>\n",
       "    </tr>\n",
       "    <tr>\n",
       "      <th>Pitcairn</th>\n",
       "      <td>38</td>\n",
       "    </tr>\n",
       "    <tr>\n",
       "      <th>Bonaire Sint Eustatius and Saba</th>\n",
       "      <td>0</td>\n",
       "    </tr>\n",
       "    <tr>\n",
       "      <th>Turkmenistan</th>\n",
       "      <td>0</td>\n",
       "    </tr>\n",
       "  </tbody>\n",
       "</table>\n",
       "<p>222 rows × 1 columns</p>\n",
       "</div>"
      ],
      "text/plain": [
       "                                 total_vaccinated_till_date\n",
       "China                                            1898830643\n",
       "India                                             562265410\n",
       "United States                                     358727323\n",
       "Brazil                                            167579290\n",
       "Japan                                             111835489\n",
       "...                                                     ...\n",
       "Tuvalu                                                 1860\n",
       "Tokelau                                                1045\n",
       "Pitcairn                                                 38\n",
       "Bonaire Sint Eustatius and Saba                           0\n",
       "Turkmenistan                                              0\n",
       "\n",
       "[222 rows x 1 columns]"
      ]
     },
     "execution_count": 27,
     "metadata": {},
     "output_type": "execute_result"
    }
   ],
   "source": [
    "total_vaccinated = {} # initializing the dictionary\n",
    "\n",
    "for country in df.country.unique() : # using a for loop to pick out the individual countries and assign the number of\n",
    "    vaccinated = 0 # vaccinated people to zero\n",
    "\n",
    "    for i in range(len(df)) : # looping through all the rows in the overall dataset\n",
    "        if df.country[i] == country : # going through all the rows and picking the rows that have a 'country' value equivalent to the country of interest at that time\n",
    "            vaccinated += df.daily_vaccinations[i] # adding the value of 'daily_vaccinations' in the rows that were chosen to the overall value of vaccinated for that particular country\n",
    "    \n",
    "    total_vaccinated[country] = vaccinated # creating dictionary values in total_vaccinated where the country is the key and the vaccinated number is the value\n",
    "    \n",
    "    total_vaccinated_df = pd.DataFrame.from_dict(total_vaccinated, # convering the dictionary we created to a dataframe \n",
    "                                                         orient='index',\n",
    "                                                         columns = ['total_vaccinated_till_date']) \n",
    "\n",
    "total_vaccinated_df.sort_values(by = 'total_vaccinated_till_date', ascending = False, inplace = True) # sorting the values in the dataframe in descending order (greatest to least)\n",
    "\n",
    "total_vaccinated_df # looking at the overall dataframe that was just created"
   ]
  },
  {
   "cell_type": "code",
   "execution_count": 29,
   "id": "15c90e9c",
   "metadata": {},
   "outputs": [],
   "source": [
    "# We can see that China, India, and the United States have the highest number of vaccinated people till date. \n",
    "# Let us take a look at how the number of daily vaccinations differ between each of these countries: "
   ]
  },
  {
   "cell_type": "code",
   "execution_count": 36,
   "id": "a0ef59fb",
   "metadata": {},
   "outputs": [
    {
     "data": {
      "text/plain": [
       "Text(0, 0.5, 'daily vaccination count (millions)')"
      ]
     },
     "execution_count": 36,
     "metadata": {},
     "output_type": "execute_result"
    },
    {
     "data": {
      "image/png": "[encoded data removed]",
      "text/plain": [
       "<Figure size 432x288 with 1 Axes>"
      ]
     },
     "metadata": {
      "needs_background": "light"
     },
     "output_type": "display_data"
    }
   ],
   "source": [
    "df.loc[df.country == 'United States', ['daily_vaccinations', 'date']].plot(x = 'date') # plotting date vs. daily vaccinations for the United States\n",
    "plt.ylabel('daily vaccination count (millions)') # defining the y-axis "
   ]
  },
  {
   "cell_type": "code",
   "execution_count": 37,
   "id": "16bd16ff",
   "metadata": {},
   "outputs": [
    {
     "data": {
      "text/plain": [
       "Text(0, 0.5, 'daily vaccination count (tens of millions)')"
      ]
     },
     "execution_count": 37,
     "metadata": {},
     "output_type": "execute_result"
    },
    {
     "data": {
      "image/png": "[encoded data removed]",
      "text/plain": [
       "<Figure size 432x288 with 1 Axes>"
      ]
     },
     "metadata": {
      "needs_background": "light"
     },
     "output_type": "display_data"
    }
   ],
   "source": [
    "df.loc[df.country == 'China', ['daily_vaccinations', 'date']].plot(x = 'date', y = 'daily_vaccinations') # plotting date vs. daily vaccinations for China\n",
    "plt.ylabel('daily vaccination count (tens of millions)') # defining the y-axis "
   ]
  },
  {
   "cell_type": "code",
   "execution_count": 38,
   "id": "5b28cf26",
   "metadata": {},
   "outputs": [
    {
     "data": {
      "text/plain": [
       "Text(0, 0.5, 'daily vaccination count (millions)')"
      ]
     },
     "execution_count": 38,
     "metadata": {},
     "output_type": "execute_result"
    },
    {
     "data": {
      "image/png": "[encoded data removed]",
      "text/plain": [
       "<Figure size 432x288 with 1 Axes>"
      ]
     },
     "metadata": {
      "needs_background": "light"
     },
     "output_type": "display_data"
    }
   ],
   "source": [
    "df.loc[df.country == 'India', ['daily_vaccinations', 'date']].plot(x = 'date', y = 'daily_vaccinations') # plotting date vs. daily vaccinations for India\n",
    "plt.ylabel('daily vaccination count (millions)') # defining the y-axis "
   ]
  },
  {
   "cell_type": "code",
   "execution_count": null,
   "id": "dd18b102",
   "metadata": {},
   "outputs": [],
   "source": [
    "# We can see that China has drastically increased the number of vaccinations in their country as they have daily \n",
    "# vaccination rates that exceed India and the United States by approximately 10-15 million. \n",
    "# India comes second as they have daily vaccination rates of approximately 3 million. However, India recently received\n",
    "# an influx of vaccines and this might be a reason wby they trail behind China in their number of daily vaccinations. \n",
    "# Lastly, the United States has a daily vaccination rate of approximately 2 million. It appears that the United States \n",
    "# had a singular increase in daily vaccinations when the vaccine was released to everyone, which then fell after vaccien\n",
    "# after approximately 30-40 percent of the population received the vaccine. "
   ]
  },
  {
   "cell_type": "code",
   "execution_count": 39,
   "id": "96dc4185",
   "metadata": {
    "scrolled": true
   },
   "outputs": [
    {
     "data": {
      "text/plain": [
       "Text(0, 0.5, 'daily vaccinations count (tens of millions)')"
      ]
     },
     "execution_count": 39,
     "metadata": {},
     "output_type": "execute_result"
    },
    {
     "data": {
      "image/png": "[encoded data removed]",
      "text/plain": [
       "<Figure size 432x288 with 1 Axes>"
      ]
     },
     "metadata": {
      "needs_background": "light"
     },
     "output_type": "display_data"
    }
   ],
   "source": [
    "India = df.loc[df.country == 'India', ['daily_vaccinations']] # Setting the number of daily_vaccinations per day to a variable named 'India'\n",
    "China = df.loc[df.country == 'China', ['daily_vaccinations']] # Setting the number of daily_vaccinations per day to a variable named 'China'\n",
    "US = df.loc[df.country == 'United States', ['daily_vaccinations']] # Setting the number of daily_vaccinations per day to a variable named 'US'\n",
    "plt.plot(India, color = 'purple') # Plotting the number of daily vaccinations for India (purple-colored) using Matplotlib\n",
    "plt.plot(China, color = 'red') # Plotting the number of daily vaccinations for China (purple-colored) using Matplotlib\n",
    "plt.plot(US, color = 'blue') # Plotting the number of daily vaccinations for the U.S. (purple-colored) using Matplotlib\n",
    "plt.xlabel(\"Position in Entry List\", fontsize=12) # setting the x-axis to 'Position in Entry List' with a font size of 12\n",
    "plt.ylabel(\"daily vaccinations count (tens of millions)\", fontsize=12) # setting the y-axis to 'daily vaccinations count (tens of millions)' with a font size of 12"
   ]
  },
  {
   "cell_type": "markdown",
   "id": "6c899019",
   "metadata": {},
   "source": [
    "# What country has the highest percentage of vaccinated people?"
   ]
  },
  {
   "cell_type": "code",
   "execution_count": 41,
   "id": "5df37640",
   "metadata": {},
   "outputs": [
    {
     "data": {
      "text/plain": [
       "37339     0.17000000000000001221\n",
       "37340     0.17999999999999999334\n",
       "37341     0.00000000000000000000\n",
       "37342     0.29999999999999998890\n",
       "37343     0.00000000000000000000\n",
       "                  ...           \n",
       "37579    59.47999999999999687361\n",
       "37580    59.60000000000000142109\n",
       "37581    59.77000000000000312639\n",
       "37582    59.92999999999999971578\n",
       "37583    60.07999999999999829470\n",
       "Name: people_vaccinated_per_hundred, Length: 245, dtype: float64"
      ]
     },
     "execution_count": 41,
     "metadata": {},
     "output_type": "execute_result"
    }
   ],
   "source": [
    "df.loc[df.country == 'United States', 'people_vaccinated_per_hundred'] # Observing the percent of people vaccinated\n",
    "# in the United States before doing analysis on the percent of people vaccinated in each country"
   ]
  },
  {
   "cell_type": "code",
   "execution_count": 127,
   "id": "0111256b",
   "metadata": {},
   "outputs": [
    {
     "data": {
      "text/html": [
       "<div>\n",
       "<style scoped>\n",
       "    .dataframe tbody tr th:only-of-type {\n",
       "        vertical-align: middle;\n",
       "    }\n",
       "\n",
       "    .dataframe tbody tr th {\n",
       "        vertical-align: top;\n",
       "    }\n",
       "\n",
       "    .dataframe thead th {\n",
       "        text-align: right;\n",
       "    }\n",
       "</style>\n",
       "<table border=\"1\" class=\"dataframe\">\n",
       "  <thead>\n",
       "    <tr style=\"text-align: right;\">\n",
       "      <th></th>\n",
       "      <th>percent_vaccinated</th>\n",
       "    </tr>\n",
       "  </thead>\n",
       "  <tbody>\n",
       "    <tr>\n",
       "      <th>Gibraltar</th>\n",
       "      <td>116.93000000000000682121</td>\n",
       "    </tr>\n",
       "    <tr>\n",
       "      <th>Pitcairn</th>\n",
       "      <td>100.00000000000000000000</td>\n",
       "    </tr>\n",
       "    <tr>\n",
       "      <th>Malta</th>\n",
       "      <td>93.00000000000000000000</td>\n",
       "    </tr>\n",
       "    <tr>\n",
       "      <th>United Arab Emirates</th>\n",
       "      <td>84.20000000000000284217</td>\n",
       "    </tr>\n",
       "    <tr>\n",
       "      <th>Iceland</th>\n",
       "      <td>80.64000000000000056843</td>\n",
       "    </tr>\n",
       "    <tr>\n",
       "      <th>...</th>\n",
       "      <td>...</td>\n",
       "    </tr>\n",
       "    <tr>\n",
       "      <th>Tanzania</th>\n",
       "      <td>0.36999999999999999556</td>\n",
       "    </tr>\n",
       "    <tr>\n",
       "      <th>Burkina Faso</th>\n",
       "      <td>0.26000000000000000888</td>\n",
       "    </tr>\n",
       "    <tr>\n",
       "      <th>Chad</th>\n",
       "      <td>0.20000000000000001110</td>\n",
       "    </tr>\n",
       "    <tr>\n",
       "      <th>Haiti</th>\n",
       "      <td>0.20000000000000001110</td>\n",
       "    </tr>\n",
       "    <tr>\n",
       "      <th>Democratic Republic of Congo</th>\n",
       "      <td>0.08999999999999999667</td>\n",
       "    </tr>\n",
       "  </tbody>\n",
       "</table>\n",
       "<p>222 rows × 1 columns</p>\n",
       "</div>"
      ],
      "text/plain": [
       "                                    percent_vaccinated\n",
       "Gibraltar                     116.93000000000000682121\n",
       "Pitcairn                      100.00000000000000000000\n",
       "Malta                          93.00000000000000000000\n",
       "United Arab Emirates           84.20000000000000284217\n",
       "Iceland                        80.64000000000000056843\n",
       "...                                                ...\n",
       "Tanzania                        0.36999999999999999556\n",
       "Burkina Faso                    0.26000000000000000888\n",
       "Chad                            0.20000000000000001110\n",
       "Haiti                           0.20000000000000001110\n",
       "Democratic Republic of Congo    0.08999999999999999667\n",
       "\n",
       "[222 rows x 1 columns]"
      ]
     },
     "execution_count": 127,
     "metadata": {},
     "output_type": "execute_result"
    }
   ],
   "source": [
    "percent = {} # initializing a dictionary\n",
    "\n",
    "for country in df.country.unique() : # creating a for loop that gathers each individual country\n",
    "    percentage = 0.00 # setting the percentage to 0 (set to change as time goes on)\n",
    "\n",
    "    for i in df.loc[df.country == country, 'people_vaccinated_per_hundred'] : # creating a for loop that iterates through the percent of people vaccinated in the country \n",
    "        percentage_maybe = i # objectifying the percent of people vaccinated in the country\n",
    "        if i > percentage: # setting the percentage to i if it is larger than the previous percentage (as the data is cumulative)\n",
    "            percentage = i\n",
    "\n",
    "\n",
    "    \n",
    "    percent[country] = percentage # creating values in the 'percent' dictionary where the key is the country and the value is the percentage\n",
    "\n",
    "    percent_vaccinated_df = pd.DataFrame.from_dict(percent,\n",
    "                                                         orient='index',\n",
    "                                                         columns = ['percent_vaccinated'])\n",
    "#     converted dict to df \n",
    "percent_vaccinated_df.sort_values(by = 'percent_vaccinated', ascending = False, inplace = True) # sorting the values in the dataframe in descending order (greatest to least)\n",
    "\n",
    "percent_vaccinated_df # viewing the dataframe"
   ]
  },
  {
   "cell_type": "code",
   "execution_count": 43,
   "id": "8a471f14",
   "metadata": {},
   "outputs": [
    {
     "data": {
      "text/plain": [
       "Text(0, 0.5, 'Daily vaccinations (in hundreds)')"
      ]
     },
     "execution_count": 43,
     "metadata": {},
     "output_type": "execute_result"
    },
    {
     "data": {
      "image/png": "[encoded data removed]",
      "text/plain": [
       "<Figure size 432x288 with 1 Axes>"
      ]
     },
     "metadata": {
      "needs_background": "light"
     },
     "output_type": "display_data"
    }
   ],
   "source": [
    "df.loc[df.country == 'Gibraltar', ['daily_vaccinations', 'date']].plot(x = 'date', y = 'daily_vaccinations') # gathering the number of daily vaccinations and the respective date as well as plotting it \n",
    "plt.xlabel('date') # setting the x-axis label to 'date'\n",
    "plt.ylabel('Daily vaccinations (in hundreds)') # setting the y-axis label to 'Daily vaccinations (in hundreds)'"
   ]
  },
  {
   "cell_type": "code",
   "execution_count": 44,
   "id": "9c9879bd",
   "metadata": {},
   "outputs": [
    {
     "data": {
      "text/plain": [
       "Text(0, 0.5, 'Daily vaccinations ')"
      ]
     },
     "execution_count": 44,
     "metadata": {},
     "output_type": "execute_result"
    },
    {
     "data": {
      "image/png": "[encoded data removed]",
      "text/plain": [
       "<Figure size 432x288 with 1 Axes>"
      ]
     },
     "metadata": {
      "needs_background": "light"
     },
     "output_type": "display_data"
    }
   ],
   "source": [
    "df.loc[df.country == 'Pitcairn', ['daily_vaccinations', 'date']].plot(x = 'date', y = 'daily_vaccinations') # gathering the number of daily vaccinations and the respective date as well as plotting it \n",
    "plt.xlabel('date') # setting the x-axis label to 'date'\n",
    "plt.ylabel('Daily vaccinations (in ones) ') # setting the y-axis label to 'Daily vaccinations (in ones)'"
   ]
  },
  {
   "cell_type": "code",
   "execution_count": 5,
   "id": "c6870848",
   "metadata": {},
   "outputs": [
    {
     "data": {
      "text/plain": [
       "Text(0, 0.5, 'Daily vaccinations ')"
      ]
     },
     "execution_count": 5,
     "metadata": {},
     "output_type": "execute_result"
    },
    {
     "data": {
      "image/png": "[encoded data removed]",
      "text/plain": [
       "<Figure size 432x288 with 1 Axes>"
      ]
     },
     "metadata": {
      "needs_background": "light"
     },
     "output_type": "display_data"
    }
   ],
   "source": [
    "df.loc[df.country == 'Malta', ['daily_vaccinations', 'date']].plot(x = 'date', y = 'daily_vaccinations') # gathering the number of daily vaccinations and the respective date as well as plotting it \n",
    "plt.xlabel('date') # setting the x-axis label to 'date'\n",
    "plt.ylabel('Daily vaccinations (in thousands) ') # setting the y-axis label to 'Daily vaccinations (in thousands) '"
   ]
  },
  {
   "cell_type": "markdown",
   "id": "3c0b3a68",
   "metadata": {},
   "source": [
    "# What vaccines are generally used in which countries?"
   ]
  },
  {
   "cell_type": "code",
   "execution_count": 45,
   "id": "d9bbc6a1",
   "metadata": {},
   "outputs": [
    {
     "data": {
      "text/html": [
       "<div>\n",
       "<style scoped>\n",
       "    .dataframe tbody tr th:only-of-type {\n",
       "        vertical-align: middle;\n",
       "    }\n",
       "\n",
       "    .dataframe tbody tr th {\n",
       "        vertical-align: top;\n",
       "    }\n",
       "\n",
       "    .dataframe thead th {\n",
       "        text-align: right;\n",
       "    }\n",
       "</style>\n",
       "<table border=\"1\" class=\"dataframe\">\n",
       "  <thead>\n",
       "    <tr style=\"text-align: right;\">\n",
       "      <th></th>\n",
       "      <th>country</th>\n",
       "      <th>date</th>\n",
       "      <th>vaccines</th>\n",
       "    </tr>\n",
       "  </thead>\n",
       "  <tbody>\n",
       "    <tr>\n",
       "      <th>0</th>\n",
       "      <td>Afghanistan</td>\n",
       "      <td>2021-02-22</td>\n",
       "      <td>Johnson&amp;Johnson, Oxford/AstraZeneca, Pfizer/Bi...</td>\n",
       "    </tr>\n",
       "    <tr>\n",
       "      <th>1</th>\n",
       "      <td>Afghanistan</td>\n",
       "      <td>2021-02-23</td>\n",
       "      <td>Johnson&amp;Johnson, Oxford/AstraZeneca, Pfizer/Bi...</td>\n",
       "    </tr>\n",
       "    <tr>\n",
       "      <th>2</th>\n",
       "      <td>Afghanistan</td>\n",
       "      <td>2021-02-24</td>\n",
       "      <td>Johnson&amp;Johnson, Oxford/AstraZeneca, Pfizer/Bi...</td>\n",
       "    </tr>\n",
       "    <tr>\n",
       "      <th>3</th>\n",
       "      <td>Afghanistan</td>\n",
       "      <td>2021-02-25</td>\n",
       "      <td>Johnson&amp;Johnson, Oxford/AstraZeneca, Pfizer/Bi...</td>\n",
       "    </tr>\n",
       "    <tr>\n",
       "      <th>4</th>\n",
       "      <td>Afghanistan</td>\n",
       "      <td>2021-02-26</td>\n",
       "      <td>Johnson&amp;Johnson, Oxford/AstraZeneca, Pfizer/Bi...</td>\n",
       "    </tr>\n",
       "    <tr>\n",
       "      <th>...</th>\n",
       "      <td>...</td>\n",
       "      <td>...</td>\n",
       "      <td>...</td>\n",
       "    </tr>\n",
       "    <tr>\n",
       "      <th>39108</th>\n",
       "      <td>Zimbabwe</td>\n",
       "      <td>2021-08-17</td>\n",
       "      <td>Oxford/AstraZeneca, Sinopharm/Beijing, Sinovac...</td>\n",
       "    </tr>\n",
       "    <tr>\n",
       "      <th>39109</th>\n",
       "      <td>Zimbabwe</td>\n",
       "      <td>2021-08-18</td>\n",
       "      <td>Oxford/AstraZeneca, Sinopharm/Beijing, Sinovac...</td>\n",
       "    </tr>\n",
       "    <tr>\n",
       "      <th>39110</th>\n",
       "      <td>Zimbabwe</td>\n",
       "      <td>2021-08-19</td>\n",
       "      <td>Oxford/AstraZeneca, Sinopharm/Beijing, Sinovac...</td>\n",
       "    </tr>\n",
       "    <tr>\n",
       "      <th>39111</th>\n",
       "      <td>Zimbabwe</td>\n",
       "      <td>2021-08-20</td>\n",
       "      <td>Oxford/AstraZeneca, Sinopharm/Beijing, Sinovac...</td>\n",
       "    </tr>\n",
       "    <tr>\n",
       "      <th>39112</th>\n",
       "      <td>Zimbabwe</td>\n",
       "      <td>2021-08-21</td>\n",
       "      <td>Oxford/AstraZeneca, Sinopharm/Beijing, Sinovac...</td>\n",
       "    </tr>\n",
       "  </tbody>\n",
       "</table>\n",
       "<p>39113 rows × 3 columns</p>\n",
       "</div>"
      ],
      "text/plain": [
       "           country        date  \\\n",
       "0      Afghanistan  2021-02-22   \n",
       "1      Afghanistan  2021-02-23   \n",
       "2      Afghanistan  2021-02-24   \n",
       "3      Afghanistan  2021-02-25   \n",
       "4      Afghanistan  2021-02-26   \n",
       "...            ...         ...   \n",
       "39108     Zimbabwe  2021-08-17   \n",
       "39109     Zimbabwe  2021-08-18   \n",
       "39110     Zimbabwe  2021-08-19   \n",
       "39111     Zimbabwe  2021-08-20   \n",
       "39112     Zimbabwe  2021-08-21   \n",
       "\n",
       "                                                vaccines  \n",
       "0      Johnson&Johnson, Oxford/AstraZeneca, Pfizer/Bi...  \n",
       "1      Johnson&Johnson, Oxford/AstraZeneca, Pfizer/Bi...  \n",
       "2      Johnson&Johnson, Oxford/AstraZeneca, Pfizer/Bi...  \n",
       "3      Johnson&Johnson, Oxford/AstraZeneca, Pfizer/Bi...  \n",
       "4      Johnson&Johnson, Oxford/AstraZeneca, Pfizer/Bi...  \n",
       "...                                                  ...  \n",
       "39108  Oxford/AstraZeneca, Sinopharm/Beijing, Sinovac...  \n",
       "39109  Oxford/AstraZeneca, Sinopharm/Beijing, Sinovac...  \n",
       "39110  Oxford/AstraZeneca, Sinopharm/Beijing, Sinovac...  \n",
       "39111  Oxford/AstraZeneca, Sinopharm/Beijing, Sinovac...  \n",
       "39112  Oxford/AstraZeneca, Sinopharm/Beijing, Sinovac...  \n",
       "\n",
       "[39113 rows x 3 columns]"
      ]
     },
     "execution_count": 45,
     "metadata": {},
     "output_type": "execute_result"
    }
   ],
   "source": [
    "df_cat # observing the columns that contain categorical data before doing analysis on frequently used vaccines in various countries"
   ]
  },
  {
   "cell_type": "code",
   "execution_count": 54,
   "id": "8a41edf3",
   "metadata": {},
   "outputs": [
    {
     "data": {
      "text/html": [
       "<div>\n",
       "<style scoped>\n",
       "    .dataframe tbody tr th:only-of-type {\n",
       "        vertical-align: middle;\n",
       "    }\n",
       "\n",
       "    .dataframe tbody tr th {\n",
       "        vertical-align: top;\n",
       "    }\n",
       "\n",
       "    .dataframe thead th {\n",
       "        text-align: right;\n",
       "    }\n",
       "</style>\n",
       "<table border=\"1\" class=\"dataframe\">\n",
       "  <thead>\n",
       "    <tr style=\"text-align: right;\">\n",
       "      <th></th>\n",
       "      <th>location</th>\n",
       "      <th>date</th>\n",
       "      <th>vaccine</th>\n",
       "      <th>total_vaccinations</th>\n",
       "    </tr>\n",
       "  </thead>\n",
       "  <tbody>\n",
       "    <tr>\n",
       "      <th>0</th>\n",
       "      <td>Austria</td>\n",
       "      <td>2021-01-08</td>\n",
       "      <td>Johnson&amp;Johnson</td>\n",
       "      <td>0</td>\n",
       "    </tr>\n",
       "    <tr>\n",
       "      <th>1</th>\n",
       "      <td>Austria</td>\n",
       "      <td>2021-01-08</td>\n",
       "      <td>Moderna</td>\n",
       "      <td>0</td>\n",
       "    </tr>\n",
       "    <tr>\n",
       "      <th>2</th>\n",
       "      <td>Austria</td>\n",
       "      <td>2021-01-08</td>\n",
       "      <td>Oxford/AstraZeneca</td>\n",
       "      <td>0</td>\n",
       "    </tr>\n",
       "    <tr>\n",
       "      <th>3</th>\n",
       "      <td>Austria</td>\n",
       "      <td>2021-01-08</td>\n",
       "      <td>Pfizer/BioNTech</td>\n",
       "      <td>31096</td>\n",
       "    </tr>\n",
       "    <tr>\n",
       "      <th>4</th>\n",
       "      <td>Austria</td>\n",
       "      <td>2021-01-15</td>\n",
       "      <td>Johnson&amp;Johnson</td>\n",
       "      <td>0</td>\n",
       "    </tr>\n",
       "    <tr>\n",
       "      <th>...</th>\n",
       "      <td>...</td>\n",
       "      <td>...</td>\n",
       "      <td>...</td>\n",
       "      <td>...</td>\n",
       "    </tr>\n",
       "    <tr>\n",
       "      <th>12472</th>\n",
       "      <td>Uruguay</td>\n",
       "      <td>2021-08-20</td>\n",
       "      <td>Pfizer/BioNTech</td>\n",
       "      <td>1777237</td>\n",
       "    </tr>\n",
       "    <tr>\n",
       "      <th>12473</th>\n",
       "      <td>Uruguay</td>\n",
       "      <td>2021-08-20</td>\n",
       "      <td>Sinovac</td>\n",
       "      <td>3242561</td>\n",
       "    </tr>\n",
       "    <tr>\n",
       "      <th>12474</th>\n",
       "      <td>Uruguay</td>\n",
       "      <td>2021-08-21</td>\n",
       "      <td>Oxford/AstraZeneca</td>\n",
       "      <td>86548</td>\n",
       "    </tr>\n",
       "    <tr>\n",
       "      <th>12475</th>\n",
       "      <td>Uruguay</td>\n",
       "      <td>2021-08-21</td>\n",
       "      <td>Pfizer/BioNTech</td>\n",
       "      <td>1779916</td>\n",
       "    </tr>\n",
       "    <tr>\n",
       "      <th>12476</th>\n",
       "      <td>Uruguay</td>\n",
       "      <td>2021-08-21</td>\n",
       "      <td>Sinovac</td>\n",
       "      <td>3242607</td>\n",
       "    </tr>\n",
       "  </tbody>\n",
       "</table>\n",
       "<p>12477 rows × 4 columns</p>\n",
       "</div>"
      ],
      "text/plain": [
       "      location        date             vaccine  total_vaccinations\n",
       "0      Austria  2021-01-08     Johnson&Johnson                   0\n",
       "1      Austria  2021-01-08             Moderna                   0\n",
       "2      Austria  2021-01-08  Oxford/AstraZeneca                   0\n",
       "3      Austria  2021-01-08     Pfizer/BioNTech               31096\n",
       "4      Austria  2021-01-15     Johnson&Johnson                   0\n",
       "...        ...         ...                 ...                 ...\n",
       "12472  Uruguay  2021-08-20     Pfizer/BioNTech             1777237\n",
       "12473  Uruguay  2021-08-20             Sinovac             3242561\n",
       "12474  Uruguay  2021-08-21  Oxford/AstraZeneca               86548\n",
       "12475  Uruguay  2021-08-21     Pfizer/BioNTech             1779916\n",
       "12476  Uruguay  2021-08-21             Sinovac             3242607\n",
       "\n",
       "[12477 rows x 4 columns]"
      ]
     },
     "execution_count": 54,
     "metadata": {},
     "output_type": "execute_result"
    }
   ],
   "source": [
    "df_vaccines = pd.read_csv('country_vaccinations_by_manufacturer.csv') # importing the CSV file 'country_vaccinations_by_manufacturer.csv' to a Pandas dataframe\n",
    "df_vaccines # observing the newly-created dataframe"
   ]
  },
  {
   "cell_type": "code",
   "execution_count": 84,
   "id": "56f4db5f",
   "metadata": {},
   "outputs": [
    {
     "data": {
      "text/plain": [
       "11354            Moderna\n",
       "11355    Pfizer/BioNTech\n",
       "11356            Moderna\n",
       "11357    Pfizer/BioNTech\n",
       "11358            Moderna\n",
       "              ...       \n",
       "11944            Moderna\n",
       "11945    Pfizer/BioNTech\n",
       "11946    Johnson&Johnson\n",
       "11947            Moderna\n",
       "11948    Pfizer/BioNTech\n",
       "Name: vaccine, Length: 595, dtype: object"
      ]
     },
     "execution_count": 84,
     "metadata": {},
     "output_type": "execute_result"
    }
   ],
   "source": [
    "df_vaccines.loc[df_vaccines.location == 'United States', 'vaccine']"
   ]
  },
  {
   "cell_type": "code",
   "execution_count": 1,
   "id": "e0780ae1",
   "metadata": {
    "scrolled": false
   },
   "outputs": [
    {
     "ename": "NameError",
     "evalue": "name 'df_vaccines' is not defined",
     "output_type": "error",
     "traceback": [
      "\u001b[0;31m---------------------------------------------------------------------------\u001b[0m",
      "\u001b[0;31mNameError\u001b[0m                                 Traceback (most recent call last)",
      "\u001b[0;32m<ipython-input-1-9d34a361e047>\u001b[0m in \u001b[0;36m<module>\u001b[0;34m\u001b[0m\n\u001b[1;32m      6\u001b[0m \u001b[0mflatList\u001b[0m \u001b[0;34m=\u001b[0m \u001b[0;34m[\u001b[0m\u001b[0;34m]\u001b[0m\u001b[0;34m\u001b[0m\u001b[0;34m\u001b[0m\u001b[0m\n\u001b[1;32m      7\u001b[0m \u001b[0;34m\u001b[0m\u001b[0m\n\u001b[0;32m----> 8\u001b[0;31m \u001b[0;32mfor\u001b[0m \u001b[0mvaccine\u001b[0m \u001b[0;32min\u001b[0m \u001b[0mdf_vaccines\u001b[0m\u001b[0;34m.\u001b[0m\u001b[0mvaccine\u001b[0m\u001b[0;34m.\u001b[0m\u001b[0munique\u001b[0m\u001b[0;34m(\u001b[0m\u001b[0;34m)\u001b[0m\u001b[0;34m:\u001b[0m\u001b[0;34m\u001b[0m\u001b[0;34m\u001b[0m\u001b[0m\n\u001b[0m\u001b[1;32m      9\u001b[0m     \u001b[0mlist\u001b[0m\u001b[0;34m.\u001b[0m\u001b[0mappend\u001b[0m\u001b[0;34m(\u001b[0m\u001b[0mi\u001b[0m\u001b[0;34m)\u001b[0m\u001b[0;34m\u001b[0m\u001b[0;34m\u001b[0m\u001b[0m\n\u001b[1;32m     10\u001b[0m \u001b[0;34m\u001b[0m\u001b[0m\n",
      "\u001b[0;31mNameError\u001b[0m: name 'df_vaccines' is not defined"
     ]
    }
   ],
   "source": [
    "new_dict = {}\n",
    "vaccines = []\n",
    "countries = []\n",
    "temp = []\n",
    "temp_2 = []\n",
    "flatList = []\n",
    "\n",
    "for vaccine in df_vaccines.vaccine.unique(): \n",
    "    list.append(i)\n",
    "    \n",
    "for country in df_vaccines.location.unique() : \n",
    "    countries.append(country)\n",
    "\n",
    "for i in countries: \n",
    "    for c in df_vaccines.loc[df_vaccines.location == i, 'vaccine']:\n",
    "        temp.append([i, c])\n",
    "           \n",
    "for i in temp:\n",
    "    if i not in temp_2:\n",
    "        temp_2.append(i)\n"
   ]
  },
  {
   "cell_type": "code",
   "execution_count": null,
   "id": "b0fedeca",
   "metadata": {},
   "outputs": [],
   "source": [
    "new_df.loc[:, :].plot()"
   ]
  },
  {
   "cell_type": "code",
   "execution_count": null,
   "id": "1274b938",
   "metadata": {},
   "outputs": [],
   "source": []
  }
 ],
 "metadata": {
  "kernelspec": {
   "display_name": "Python 3",
   "language": "python",
   "name": "python3"
  },
  "language_info": {
   "codemirror_mode": {
    "name": "ipython",
    "version": 3
   },
   "file_extension": ".py",
   "mimetype": "text/x-python",
   "name": "python",
   "nbconvert_exporter": "python",
   "pygments_lexer": "ipython3",
   "version": "3.8.8"
  }
 },
 "nbformat": 4,
 "nbformat_minor": 5
}
